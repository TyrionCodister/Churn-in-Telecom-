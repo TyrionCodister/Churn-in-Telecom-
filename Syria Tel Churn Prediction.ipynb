{
 "cells": [
  {
   "cell_type": "markdown",
   "metadata": {},
   "source": [
    "SYRIATEL CUSTOMER CHURN PREDICTION\n",
    "\n",
    "AUTHOR : KELVIN MWAURA NJUNG'E\n",
    "\n",
    "COHORT : DSFT08 (REMOTE)\n"
   ]
  },
  {
   "cell_type": "markdown",
   "metadata": {},
   "source": [
    "BUSINESS UNDERSTANDING\n",
    "\n",
    "Project Overview\n",
    "\n",
    "\n",
    "Syriatel, a telecommunications company, is experiencing a significant rate of customer churn. Customer churn, or the rate at which customers stop doing business with a company, is a critical issue in the telecom industry. Retaining customers is not only more cost-effective than acquiring new ones but also crucial for sustaining profitability and market position. This project aims to build a predictive model to identify customers who are likely to churn, enabling Syriatel to implement proactive retention strategies to mitigate revenue loss.\n",
    "\n",
    "\n",
    "STAKEHOLDERS\n",
    "\n",
    "Primary Stakeholder:\n",
    "\n",
    "Syriatel Mobile Telecom: The telecom company that will use the model to reduce customer churn and improve profitability.\n",
    "\n",
    "\n",
    "Other Stakeholders:\n",
    "\n",
    "Shareholders: Will benefit from increased profitability and market stability.\n",
    "\n",
    "Employees: Will benefit from a more stable business environment and potentially better compensation.\n",
    "\n",
    "Customers: Will benefit from improved services and customer support."
   ]
  },
  {
   "cell_type": "markdown",
   "metadata": {},
   "source": [
    "BUSINESS PROBLEM\n",
    "\n",
    "The main business problem is the high rate of customer churn at Syriatel, leading to substantial revenue loss and increased costs associated with acquiring new customers. The goal is to develop a predictive model that can identify customers who are likely to churn, allowing Syriatel to take targeted actions to retain these customers and reduce overall churn rates.\n",
    "\n",
    "Project Scope\n",
    "\n",
    "In-Scope:\n",
    "\n",
    "\n",
    "Identifying key features that predict customer churn.\n",
    "\n",
    "Developing a robust classification model to predict churn.\n",
    "\n",
    "Providing actionable insights and recommendations for retention strategies.\n",
    "\n",
    "Out-of-Scope:\n",
    "\n",
    "Directly implementing the retention strategies.\n",
    "\n",
    "Long-term monitoring and adjustments of the model post-deployment."
   ]
  },
  {
   "cell_type": "markdown",
   "metadata": {},
   "source": [
    "ALIIGNMENT AND CLARIFICATION\n",
    "\n",
    "It is crucial to ensure that all stakeholders have a unified understanding of the project's objectives and scope. Regular meetings and updates will be scheduled to maintain alignment and address any discrepancies in expectations."
   ]
  },
  {
   "cell_type": "markdown",
   "metadata": {},
   "source": []
  }
 ],
 "metadata": {
  "kernelspec": {
   "display_name": "learn-env",
   "language": "python",
   "name": "python3"
  },
  "language_info": {
   "codemirror_mode": {
    "name": "ipython",
    "version": 3
   },
   "file_extension": ".py",
   "mimetype": "text/x-python",
   "name": "python",
   "nbconvert_exporter": "python",
   "pygments_lexer": "ipython3",
   "version": "3.8.1"
  }
 },
 "nbformat": 4,
 "nbformat_minor": 2
}
