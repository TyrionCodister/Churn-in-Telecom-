{
 "cells": [
  {
   "cell_type": "markdown",
   "metadata": {},
   "source": [
    "SYRIATEL CUSTOMER CHURN PREDICTION\n",
    "AUTHOR : KELVIN MWAURA NJUNG'E\n",
    "COHORT : DSFT08 (REMOTE)\n"
   ]
  },
  {
   "cell_type": "markdown",
   "metadata": {},
   "source": [
    "BUSINESS UNDERSTANDING\n",
    "\n",
    "Project Overview\n",
    "\n",
    "Syriatel, a telecommunications company, is experiencing a significant rate of customer churn. Customer churn, or the rate at which customers stop doing business with a company, is a critical issue in the telecom industry. Retaining customers is not only more cost-effective than acquiring new ones but also crucial for sustaining profitability and market position. This project aims to build a predictive model to identify customers who are likely to churn, enabling Syriatel to implement proactive retention strategies to mitigate revenue loss.\n",
    "\n",
    "\n",
    "STAKEHOLDERS\n",
    "\n",
    "Primary Stakeholder:\n",
    "\n",
    "Syriatel Mobile Telecom: The telecom company that will use the model to reduce customer churn and improve profitability.\n",
    "\n",
    "\n",
    "Other Stakeholders:\n",
    "\n",
    "Shareholders: Will benefit from increased profitability and market stability.\n",
    "\n",
    "Employees: Will benefit from a more stable business environment and potentially better compensation.\n",
    "\n",
    "Customers: Will benefit from improved services and customer support."
   ]
  },
  {
   "cell_type": "code",
   "execution_count": null,
   "metadata": {},
   "outputs": [],
   "source": []
  },
  {
   "cell_type": "markdown",
   "metadata": {},
   "source": []
  }
 ],
 "metadata": {
  "kernelspec": {
   "display_name": "learn-env",
   "language": "python",
   "name": "python3"
  },
  "language_info": {
   "name": "python",
   "version": "3.8.1"
  }
 },
 "nbformat": 4,
 "nbformat_minor": 2
}
